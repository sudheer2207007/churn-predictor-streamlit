{
 "cells": [
  {
   "cell_type": "code",
   "execution_count": 3,
   "id": "fbc52d4b-877e-4f21-8c66-1c8d97af802b",
   "metadata": {},
   "outputs": [],
   "source": [
    "import tensorflow as tf\n",
    "from tensorflow.keras.models import load_model\n",
    "import pickle\n",
    "import pandas as pd\n",
    "import numpy as np"
   ]
  },
  {
   "cell_type": "code",
   "execution_count": 4,
   "id": "f5fd85a8-f0ed-4b2c-b1f1-0b2255da132f",
   "metadata": {},
   "outputs": [
    {
     "data": {
      "text/plain": [
       "['.git',\n",
       " '.ipynb_checkpoints',\n",
       " '.venv',\n",
       " 'ANN_PRO.ipynb',\n",
       " 'app.py',\n",
       " 'Churn_Modelling.csv',\n",
       " 'label_encoder_gender.pk1',\n",
       " 'logs',\n",
       " 'model.h5',\n",
       " 'my_model.keras',\n",
       " 'onehot_encoder_geo.pk1',\n",
       " 'prediction.ipynb',\n",
       " 'README.md',\n",
       " 'requirements.txt',\n",
       " 'runtime.txt',\n",
       " 'scaler.pk1']"
      ]
     },
     "execution_count": 4,
     "metadata": {},
     "output_type": "execute_result"
    }
   ],
   "source": [
    "import os\n",
    "os.listdir()\n"
   ]
  },
  {
   "cell_type": "code",
   "execution_count": 5,
   "id": "6104c3e2-5529-4ed5-b6a5-8bdedf638792",
   "metadata": {},
   "outputs": [
    {
     "name": "stderr",
     "output_type": "stream",
     "text": [
      "WARNING:absl:Compiled the loaded model, but the compiled metrics have yet to be built. `model.compile_metrics` will be empty until you train or evaluate the model.\n"
     ]
    }
   ],
   "source": [
    "import pickle\n",
    "from tensorflow.keras.models import load_model\n",
    "\n",
    "# Load trained Keras model\n",
    "model = load_model('model.h5')\n",
    "\n",
    "# Load OneHotEncoder for Geography\n",
    "with open('onehot_encoder_geo.pk1', 'rb') as file:\n",
    "    onehot_encoder_geo = pickle.load(file)\n",
    "\n",
    "# Load LabelEncoder for Gender\n",
    "with open('label_encoder_gender.pk1', 'rb') as file:\n",
    "    label_encoder_gender = pickle.load(file)\n",
    "\n",
    "# Load StandardScaler\n",
    "with open('scaler.pk1', 'rb') as file:\n",
    "    scaler = pickle.load(file)\n"
   ]
  },
  {
   "cell_type": "code",
   "execution_count": 6,
   "id": "20d85d68-c859-4996-9286-6e9be6e5b9e2",
   "metadata": {},
   "outputs": [],
   "source": [
    "# --- Cleaned input_data ---\n",
    "input_data = {\n",
    "    'CreditScore': 600,\n",
    "    'Gender': 'Female',\n",
    "    'Geography': 'France',\n",
    "    'Age': 40,\n",
    "    'Tenure': 3,\n",
    "    'Balance': 60000,\n",
    "    'NumOfProducts': 2,\n",
    "    'HasCrCard': 1,\n",
    "    'IsActiveMember': 1,\n",
    "    'EstimatedSalary': 50000\n",
    "}"
   ]
  },
  {
   "cell_type": "code",
   "execution_count": 7,
   "id": "39faac55-729f-451f-bf70-254c05181b75",
   "metadata": {},
   "outputs": [
    {
     "data": {
      "text/html": [
       "<div>\n",
       "<style scoped>\n",
       "    .dataframe tbody tr th:only-of-type {\n",
       "        vertical-align: middle;\n",
       "    }\n",
       "\n",
       "    .dataframe tbody tr th {\n",
       "        vertical-align: top;\n",
       "    }\n",
       "\n",
       "    .dataframe thead th {\n",
       "        text-align: right;\n",
       "    }\n",
       "</style>\n",
       "<table border=\"1\" class=\"dataframe\">\n",
       "  <thead>\n",
       "    <tr style=\"text-align: right;\">\n",
       "      <th></th>\n",
       "      <th>Geography_France</th>\n",
       "      <th>Geography_Germany</th>\n",
       "      <th>Geography_Spain</th>\n",
       "    </tr>\n",
       "  </thead>\n",
       "  <tbody>\n",
       "    <tr>\n",
       "      <th>0</th>\n",
       "      <td>1.0</td>\n",
       "      <td>0.0</td>\n",
       "      <td>0.0</td>\n",
       "    </tr>\n",
       "  </tbody>\n",
       "</table>\n",
       "</div>"
      ],
      "text/plain": [
       "   Geography_France  Geography_Germany  Geography_Spain\n",
       "0               1.0                0.0              0.0"
      ]
     },
     "execution_count": 7,
     "metadata": {},
     "output_type": "execute_result"
    }
   ],
   "source": [
    "\n",
    "# Wrap input as DataFrame with correct column name\n",
    "geo_input = pd.DataFrame({'Geography': [input_data['Geography']]})\n",
    "\n",
    "# Transform without warning\n",
    "geo_encoded = onehot_encoder_geo.transform(geo_input).toarray()\n",
    "geo_columns = onehot_encoder_geo.get_feature_names_out(['Geography'])\n",
    "\n",
    "# Create DataFrame\n",
    "geo_df = pd.DataFrame(geo_encoded, columns=geo_columns)\n",
    "geo_df\n"
   ]
  },
  {
   "cell_type": "code",
   "execution_count": 8,
   "id": "404e7059-a5e6-4431-9741-d592f449bf28",
   "metadata": {},
   "outputs": [
    {
     "data": {
      "text/html": [
       "<div>\n",
       "<style scoped>\n",
       "    .dataframe tbody tr th:only-of-type {\n",
       "        vertical-align: middle;\n",
       "    }\n",
       "\n",
       "    .dataframe tbody tr th {\n",
       "        vertical-align: top;\n",
       "    }\n",
       "\n",
       "    .dataframe thead th {\n",
       "        text-align: right;\n",
       "    }\n",
       "</style>\n",
       "<table border=\"1\" class=\"dataframe\">\n",
       "  <thead>\n",
       "    <tr style=\"text-align: right;\">\n",
       "      <th></th>\n",
       "      <th>CreditScore</th>\n",
       "      <th>Gender</th>\n",
       "      <th>Geography</th>\n",
       "      <th>Age</th>\n",
       "      <th>Tenure</th>\n",
       "      <th>Balance</th>\n",
       "      <th>NumOfProducts</th>\n",
       "      <th>HasCrCard</th>\n",
       "      <th>IsActiveMember</th>\n",
       "      <th>EstimatedSalary</th>\n",
       "    </tr>\n",
       "  </thead>\n",
       "  <tbody>\n",
       "    <tr>\n",
       "      <th>0</th>\n",
       "      <td>600</td>\n",
       "      <td>Female</td>\n",
       "      <td>France</td>\n",
       "      <td>40</td>\n",
       "      <td>3</td>\n",
       "      <td>60000</td>\n",
       "      <td>2</td>\n",
       "      <td>1</td>\n",
       "      <td>1</td>\n",
       "      <td>50000</td>\n",
       "    </tr>\n",
       "  </tbody>\n",
       "</table>\n",
       "</div>"
      ],
      "text/plain": [
       "   CreditScore  Gender Geography  Age  Tenure  Balance  NumOfProducts  \\\n",
       "0          600  Female    France   40       3    60000              2   \n",
       "\n",
       "   HasCrCard  IsActiveMember  EstimatedSalary  \n",
       "0          1               1            50000  "
      ]
     },
     "execution_count": 8,
     "metadata": {},
     "output_type": "execute_result"
    }
   ],
   "source": [
    "input_df=pd.DataFrame([input_data])\n",
    "input_df"
   ]
  },
  {
   "cell_type": "code",
   "execution_count": 9,
   "id": "2e905f30-46cc-4023-9d59-e8f87e923dd6",
   "metadata": {},
   "outputs": [
    {
     "data": {
      "text/html": [
       "<div>\n",
       "<style scoped>\n",
       "    .dataframe tbody tr th:only-of-type {\n",
       "        vertical-align: middle;\n",
       "    }\n",
       "\n",
       "    .dataframe tbody tr th {\n",
       "        vertical-align: top;\n",
       "    }\n",
       "\n",
       "    .dataframe thead th {\n",
       "        text-align: right;\n",
       "    }\n",
       "</style>\n",
       "<table border=\"1\" class=\"dataframe\">\n",
       "  <thead>\n",
       "    <tr style=\"text-align: right;\">\n",
       "      <th></th>\n",
       "      <th>CreditScore</th>\n",
       "      <th>Gender</th>\n",
       "      <th>Geography</th>\n",
       "      <th>Age</th>\n",
       "      <th>Tenure</th>\n",
       "      <th>Balance</th>\n",
       "      <th>NumOfProducts</th>\n",
       "      <th>HasCrCard</th>\n",
       "      <th>IsActiveMember</th>\n",
       "      <th>EstimatedSalary</th>\n",
       "    </tr>\n",
       "  </thead>\n",
       "  <tbody>\n",
       "    <tr>\n",
       "      <th>0</th>\n",
       "      <td>600</td>\n",
       "      <td>0</td>\n",
       "      <td>France</td>\n",
       "      <td>40</td>\n",
       "      <td>3</td>\n",
       "      <td>60000</td>\n",
       "      <td>2</td>\n",
       "      <td>1</td>\n",
       "      <td>1</td>\n",
       "      <td>50000</td>\n",
       "    </tr>\n",
       "  </tbody>\n",
       "</table>\n",
       "</div>"
      ],
      "text/plain": [
       "   CreditScore  Gender Geography  Age  Tenure  Balance  NumOfProducts  \\\n",
       "0          600       0    France   40       3    60000              2   \n",
       "\n",
       "   HasCrCard  IsActiveMember  EstimatedSalary  \n",
       "0          1               1            50000  "
      ]
     },
     "execution_count": 9,
     "metadata": {},
     "output_type": "execute_result"
    }
   ],
   "source": [
    "## encode categorical variables\n",
    "input_df['Gender']=label_encoder_gender.transform(input_df['Gender'])\n",
    "input_df"
   ]
  },
  {
   "cell_type": "code",
   "execution_count": 21,
   "id": "f1769f5f-b465-4cd0-aa91-bd274fcd74a0",
   "metadata": {},
   "outputs": [],
   "source": [
    "# --- Build DataFrame in correct order ---\n",
    "input_df = pd.DataFrame([[\n",
    "    input_data['CreditScore'],\n",
    "    gender_encoded,\n",
    "    input_data['Age'],\n",
    "    input_data['Tenure'],\n",
    "    input_data['Balance'],\n",
    "    input_data['NumOfProducts'],\n",
    "    input_data['HasCrCard'],\n",
    "    input_data['IsActiveMember'],\n",
    "    input_data['EstimatedSalary'],\n",
    "    *geo_encoded.toarray().flatten()\n",
    "\n",
    "]], columns=[\n",
    "    'CreditScore', 'Gender', 'Age', 'Tenure', 'Balance',\n",
    "    'NumOfProducts', 'HasCrCard', 'IsActiveMember', 'EstimatedSalary',\n",
    "    *geo_columns\n",
    "])\n"
   ]
  },
  {
   "cell_type": "code",
   "execution_count": 23,
   "id": "8f846f72-c686-4952-96cf-87481cb42fa3",
   "metadata": {},
   "outputs": [
    {
     "data": {
      "text/plain": [
       "array([[-0.53598516, -1.09499335,  0.10479359, -0.69539349, -0.25781119,\n",
       "         0.80843615,  0.64920267,  0.97481699, -0.87683221,  1.00150113,\n",
       "        -0.57946723, -0.57638802]])"
      ]
     },
     "execution_count": 23,
     "metadata": {},
     "output_type": "execute_result"
    }
   ],
   "source": [
    "input_scaled = scaler.transform(input_df)\n",
    "input_scaled"
   ]
  },
  {
   "cell_type": "code",
   "execution_count": 25,
   "id": "e7898bf8-f1ef-45e3-9deb-021ba5a09639",
   "metadata": {},
   "outputs": [
    {
     "name": "stdout",
     "output_type": "stream",
     "text": [
      "\u001b[1m1/1\u001b[0m \u001b[32m━━━━━━━━━━━━━━━━━━━━\u001b[0m\u001b[37m\u001b[0m \u001b[1m0s\u001b[0m 231ms/step\n",
      "Churn Probability: 0.033913616\n"
     ]
    },
    {
     "data": {
      "text/plain": [
       "array([[0.03391362]], dtype=float32)"
      ]
     },
     "execution_count": 25,
     "metadata": {},
     "output_type": "execute_result"
    }
   ],
   "source": [
    "# --- Predict ---\n",
    "prediction = model.predict(input_scaled)\n",
    "print(\"Churn Probability:\", prediction[0][0])\n",
    "prediction"
   ]
  },
  {
   "cell_type": "code",
   "execution_count": 27,
   "id": "249cc4c3-64b0-458f-9335-4c3b90f3a094",
   "metadata": {},
   "outputs": [],
   "source": [
    "pridiction_prob=prediction[0][0]"
   ]
  },
  {
   "cell_type": "code",
   "execution_count": 29,
   "id": "6c260547-8efc-4876-891d-eb470eac6da0",
   "metadata": {},
   "outputs": [
    {
     "data": {
      "text/plain": [
       "0.033913616"
      ]
     },
     "execution_count": 29,
     "metadata": {},
     "output_type": "execute_result"
    }
   ],
   "source": [
    "pridiction_prob"
   ]
  },
  {
   "cell_type": "code",
   "execution_count": 31,
   "id": "d55710e5-b4d6-4ead-8284-f95083eba79d",
   "metadata": {},
   "outputs": [
    {
     "name": "stdout",
     "output_type": "stream",
     "text": [
      "this customer is not likely to churn\n"
     ]
    }
   ],
   "source": [
    "if prediction > 0.5:\n",
    "    print('this customer is likely to churn.')\n",
    "else:\n",
    "    print('this customer is not likely to churn')"
   ]
  },
  {
   "cell_type": "code",
   "execution_count": null,
   "id": "4211f01b-cfe3-4321-802f-4e6179364baa",
   "metadata": {},
   "outputs": [],
   "source": []
  }
 ],
 "metadata": {
  "kernelspec": {
   "display_name": "Python (Conda)",
   "language": "python",
   "name": "mycondaenv"
  },
  "language_info": {
   "codemirror_mode": {
    "name": "ipython",
    "version": 3
   },
   "file_extension": ".py",
   "mimetype": "text/x-python",
   "name": "python",
   "nbconvert_exporter": "python",
   "pygments_lexer": "ipython3",
   "version": "3.12.7"
  }
 },
 "nbformat": 4,
 "nbformat_minor": 5
}
